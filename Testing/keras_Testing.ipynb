{
 "cells": [
  {
   "cell_type": "code",
   "execution_count": 1,
   "metadata": {},
   "outputs": [],
   "source": [
    "import pickle\n",
    "import numpy as np\n",
    "import tensorflow as tf\n",
    "\n",
    "# Load pickled data\n",
    "with open('small_train_traffic.p', mode='rb') as f:\n",
    "    data = pickle.load(f)"
   ]
  },
  {
   "cell_type": "code",
   "execution_count": 2,
   "metadata": {},
   "outputs": [],
   "source": [
    "# Split the data\n",
    "X_train, y_train = data['features'], data['labels']"
   ]
  },
  {
   "cell_type": "code",
   "execution_count": 3,
   "metadata": {},
   "outputs": [
    {
     "name": "stderr",
     "output_type": "stream",
     "text": [
      "Using TensorFlow backend.\n"
     ]
    }
   ],
   "source": [
    "# Setup Keras\n",
    "from keras.models import Sequential\n",
    "from keras.layers.core import Dense, Activation, Flatten, Dropout\n",
    "from keras.layers.convolutional import Conv2D\n",
    "from keras.layers.pooling import MaxPooling2D"
   ]
  },
  {
   "cell_type": "code",
   "execution_count": 4,
   "metadata": {},
   "outputs": [],
   "source": [
    "# TODO: Build the Final Test Neural Network in Keras Here\n",
    "model = Sequential()\n",
    "model.add(Conv2D(32, input_shape=(32, 32, 3), kernel_size=(3, 3), activation='relu'))\n",
    "model.add(MaxPooling2D(pool_size=(2, 2)))\n",
    "model.add(Dropout(rate=0.5))\n",
    "model.add(Flatten(input_shape=(32, 32, 3)))\n",
    "model.add(Dense(128))\n",
    "model.add(Activation('relu'))\n",
    "model.add(Dense(5))\n",
    "model.add(Activation('softmax'))"
   ]
  },
  {
   "cell_type": "code",
   "execution_count": 5,
   "metadata": {},
   "outputs": [],
   "source": [
    "# preprocess data\n",
    "X_normalized = np.array(X_train / 255.0 - 0.5 )\n",
    "\n",
    "from sklearn.preprocessing import LabelBinarizer\n",
    "label_binarizer = LabelBinarizer()\n",
    "y_one_hot = label_binarizer.fit_transform(y_train)"
   ]
  },
  {
   "cell_type": "code",
   "execution_count": 15,
   "metadata": {},
   "outputs": [
    {
     "name": "stdout",
     "output_type": "stream",
     "text": [
      "Train on 80 samples, validate on 20 samples\n",
      "Epoch 1/20\n",
      "80/80 [==============================] - 0s 5ms/step - loss: 0.5904 - acc: 0.8000 - val_loss: 0.0704 - val_acc: 1.0000\n",
      "Epoch 2/20\n",
      "80/80 [==============================] - 0s 3ms/step - loss: 0.1846 - acc: 0.8750 - val_loss: 0.0802 - val_acc: 1.0000\n",
      "Epoch 3/20\n",
      "80/80 [==============================] - 0s 3ms/step - loss: 0.1519 - acc: 0.9625 - val_loss: 0.0777 - val_acc: 1.0000\n",
      "Epoch 4/20\n",
      "80/80 [==============================] - 0s 3ms/step - loss: 0.0959 - acc: 0.9875 - val_loss: 0.1647 - val_acc: 0.8500\n",
      "Epoch 5/20\n",
      "80/80 [==============================] - 0s 3ms/step - loss: 0.1836 - acc: 0.9000 - val_loss: 0.0539 - val_acc: 1.0000\n",
      "Epoch 6/20\n",
      "80/80 [==============================] - 0s 3ms/step - loss: 0.1433 - acc: 0.9500 - val_loss: 0.0480 - val_acc: 1.0000\n",
      "Epoch 7/20\n",
      "80/80 [==============================] - 0s 3ms/step - loss: 0.1267 - acc: 0.9625 - val_loss: 0.0639 - val_acc: 1.0000\n",
      "Epoch 8/20\n",
      "80/80 [==============================] - 0s 3ms/step - loss: 0.0946 - acc: 0.9750 - val_loss: 0.0733 - val_acc: 1.0000\n",
      "Epoch 9/20\n",
      "80/80 [==============================] - 0s 3ms/step - loss: 0.1285 - acc: 0.9125 - val_loss: 0.0422 - val_acc: 1.0000\n",
      "Epoch 10/20\n",
      "80/80 [==============================] - 0s 3ms/step - loss: 0.1051 - acc: 0.9625 - val_loss: 0.0434 - val_acc: 1.0000\n",
      "Epoch 11/20\n",
      "80/80 [==============================] - 0s 3ms/step - loss: 0.0540 - acc: 1.0000 - val_loss: 0.0360 - val_acc: 1.0000\n",
      "Epoch 12/20\n",
      "80/80 [==============================] - 0s 3ms/step - loss: 0.0670 - acc: 0.9875 - val_loss: 0.0214 - val_acc: 1.0000\n",
      "Epoch 13/20\n",
      "80/80 [==============================] - 0s 3ms/step - loss: 0.0435 - acc: 1.0000 - val_loss: 0.0204 - val_acc: 1.0000\n",
      "Epoch 14/20\n",
      "80/80 [==============================] - 0s 3ms/step - loss: 0.0402 - acc: 1.0000 - val_loss: 0.0176 - val_acc: 1.0000\n",
      "Epoch 15/20\n",
      "80/80 [==============================] - 0s 3ms/step - loss: 0.0317 - acc: 1.0000 - val_loss: 0.0168 - val_acc: 1.0000\n",
      "Epoch 16/20\n",
      "80/80 [==============================] - 0s 3ms/step - loss: 0.0333 - acc: 1.0000 - val_loss: 0.0154 - val_acc: 1.0000\n",
      "Epoch 17/20\n",
      "80/80 [==============================] - 0s 3ms/step - loss: 0.0350 - acc: 1.0000 - val_loss: 0.0175 - val_acc: 1.0000\n",
      "Epoch 18/20\n",
      "80/80 [==============================] - 0s 3ms/step - loss: 0.0295 - acc: 1.0000 - val_loss: 0.0122 - val_acc: 1.0000\n",
      "Epoch 19/20\n",
      "80/80 [==============================] - 0s 3ms/step - loss: 0.0516 - acc: 0.9875 - val_loss: 0.0113 - val_acc: 1.0000\n",
      "Epoch 20/20\n",
      "80/80 [==============================] - 0s 3ms/step - loss: 0.0384 - acc: 0.9875 - val_loss: 0.0101 - val_acc: 1.0000\n"
     ]
    }
   ],
   "source": [
    "# compile and fit the model\n",
    "model.compile('adam', 'categorical_crossentropy', ['accuracy'])\n",
    "history = model.fit(X_normalized, y_one_hot, epochs=20, validation_split=0.2)"
   ]
  },
  {
   "cell_type": "code",
   "execution_count": 16,
   "metadata": {},
   "outputs": [
    {
     "name": "stdout",
     "output_type": "stream",
     "text": [
      "Testing\n",
      "20/20 [==============================] - 0s 651us/step\n",
      "loss: 0.01805654540657997\n",
      "acc: 1.0\n"
     ]
    }
   ],
   "source": [
    "# evaluate model against the test data\n",
    "with open('small_test_traffic.p', 'rb') as f:\n",
    "    data_test = pickle.load(f)\n",
    "\n",
    "X_test = data_test['features']\n",
    "y_test = data_test['labels']\n",
    "\n",
    "# preprocess data\n",
    "X_normalized_test = np.array(X_test / 255.0 - 0.5 )\n",
    "y_one_hot_test = label_binarizer.fit_transform(y_test)\n",
    "\n",
    "print(\"Testing\")\n",
    "\n",
    "metrics = model.evaluate(X_normalized_test, y_one_hot_test)\n",
    "for metric_i in range(len(model.metrics_names)):\n",
    "    metric_name = model.metrics_names[metric_i]\n",
    "    metric_value = metrics[metric_i]\n",
    "    print('{}: {}'.format(metric_name, metric_value))    "
   ]
  },
  {
   "cell_type": "code",
   "execution_count": 17,
   "metadata": {},
   "outputs": [
    {
     "name": "stdout",
     "output_type": "stream",
     "text": [
      "Nice, accuracy was 1.0\n",
      "Good Job, accuracy was above 90%\n",
      "\n"
     ]
    }
   ],
   "source": [
    "### DON'T MODIFY ANYTHING BELOW ###\n",
    "### Be sure to run all cells above before running this cell ###\n",
    "import grader\n",
    "\n",
    "try:\n",
    "    grader.run_grader(metrics)\n",
    "except Exception as err:\n",
    "    print(str(err))"
   ]
  },
  {
   "cell_type": "code",
   "execution_count": null,
   "metadata": {},
   "outputs": [],
   "source": []
  }
 ],
 "metadata": {
  "kernelspec": {
   "display_name": "Python 3",
   "language": "python",
   "name": "python3"
  },
  "language_info": {
   "codemirror_mode": {
    "name": "ipython",
    "version": 3
   },
   "file_extension": ".py",
   "mimetype": "text/x-python",
   "name": "python",
   "nbconvert_exporter": "python",
   "pygments_lexer": "ipython3",
   "version": "3.6.3"
  }
 },
 "nbformat": 4,
 "nbformat_minor": 2
}
